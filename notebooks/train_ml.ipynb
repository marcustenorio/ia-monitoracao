{
 "cells": [
  {
   "cell_type": "markdown",
   "id": "2ccf1a79",
   "metadata": {},
   "source": [
    "# Treinamento de Modelo de Machine Learning\n",
    "\n",
    "Este notebook executa o fluxo de treino/teste de um modelo Random Forest usando dados simulados do pipeline de observabilidade.\n"
   ]
  },
  {
   "cell_type": "code",
   "execution_count": 2,
   "id": "b07bcf19",
   "metadata": {},
   "outputs": [],
   "source": [
    "import json\n",
    "import os\n",
    "from typing import Dict, List, Optional\n",
    "\n",
    "import joblib\n",
    "import numpy as np\n",
    "import pandas as pd\n",
    "from sklearn.ensemble import RandomForestClassifier\n",
    "from sklearn.model_selection import train_test_split\n",
    "from sklearn.metrics import classification_report\n",
    "\n",
    "class MLTrainingService:\n",
    "    \"\"\"\n",
    "    Serviço responsável por treinar e avaliar modelos de ML\n",
    "    \"\"\"\n",
    "    def __init__(self, model_path: str = \"model.joblib\"):\n",
    "        self.model_path = model_path\n",
    "        self.model = None\n",
    "\n",
    "    def load_data(self, file_path: str) -> pd.DataFrame:\n",
    "        return pd.read_csv(file_path)\n",
    "\n",
    "    def preprocess(self, df: pd.DataFrame) -> (np.ndarray, np.ndarray):\n",
    "        X = df.drop(\"target\", axis=1).values\n",
    "        y = df[\"target\"].values\n",
    "        return X, y\n",
    "\n",
    "    def train(self, X: np.ndarray, y: np.ndarray):\n",
    "        X_train, X_test, y_train, y_test = train_test_split(X, y, test_size=0.2, random_state=42)\n",
    "        self.model = RandomForestClassifier(n_estimators=100, random_state=42)\n",
    "        self.model.fit(X_train, y_train)\n",
    "        preds = self.model.predict(X_test)\n",
    "        print(classification_report(y_test, preds))\n",
    "        joblib.dump(self.model, self.model_path)\n",
    "        print(f\"Modelo salvo em {self.model_path}\")\n",
    "\n",
    "    def load_model(self):\n",
    "        if os.path.exists(self.model_path):\n",
    "            self.model = joblib.load(self.model_path)\n",
    "            print(\"Modelo carregado com sucesso!\")\n",
    "        else:\n",
    "            raise FileNotFoundError(\"Nenhum modelo encontrado. Treine antes.\")\n",
    "\n",
    "    def predict(self, X: np.ndarray):\n",
    "        if not self.model:\n",
    "            raise ValueError(\"Modelo não carregado.\")\n",
    "        return self.model.predict(X)\n"
   ]
  },
  {
   "cell_type": "code",
   "execution_count": 3,
   "id": "24a4e115",
   "metadata": {},
   "outputs": [
    {
     "name": "stdout",
     "output_type": "stream",
     "text": [
      "              precision    recall  f1-score   support\n",
      "\n",
      "           0       0.91      0.96      0.93        50\n",
      "           1       0.96      0.90      0.93        50\n",
      "\n",
      "    accuracy                           0.93       100\n",
      "   macro avg       0.93      0.93      0.93       100\n",
      "weighted avg       0.93      0.93      0.93       100\n",
      "\n",
      "Modelo salvo em model.joblib\n"
     ]
    }
   ],
   "source": [
    "# Simulação de execução\n",
    "service = MLTrainingService()\n",
    "\n",
    "# Gerar dataset simulado\n",
    "from sklearn.datasets import make_classification\n",
    "X, y = make_classification(n_samples=500, n_features=5, n_informative=3, n_redundant=0, random_state=42)\n",
    "df = pd.DataFrame(X, columns=[f\"feature_{i}\" for i in range(X.shape[1])])\n",
    "df[\"target\"] = y\n",
    "df.to_csv(\"observability_data.csv\", index=False)\n",
    "\n",
    "# Carregar, treinar e avaliar\n",
    "data = service.load_data(\"observability_data.csv\")\n",
    "X, y = service.preprocess(data)\n",
    "service.train(X, y)\n"
   ]
  },
  {
   "cell_type": "code",
   "execution_count": null,
   "id": "396af2af-b0da-4ce6-ba34-39d3121d6f3b",
   "metadata": {},
   "outputs": [],
   "source": []
  },
  {
   "cell_type": "code",
   "execution_count": null,
   "id": "916b9400-d1af-43d7-8afd-50b2013a6729",
   "metadata": {},
   "outputs": [],
   "source": []
  }
 ],
 "metadata": {
  "kernelspec": {
   "display_name": "Python 3 (ipykernel)",
   "language": "python",
   "name": "python3"
  },
  "language_info": {
   "codemirror_mode": {
    "name": "ipython",
    "version": 3
   },
   "file_extension": ".py",
   "mimetype": "text/x-python",
   "name": "python",
   "nbconvert_exporter": "python",
   "pygments_lexer": "ipython3",
   "version": "3.12.9"
  }
 },
 "nbformat": 4,
 "nbformat_minor": 5
}
